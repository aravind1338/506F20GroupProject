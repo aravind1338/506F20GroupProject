{
 "cells": [
  {
   "cell_type": "code",
   "execution_count": 1,
   "metadata": {},
   "outputs": [],
   "source": [
    "## Python Script for the Group Project, Stats 506 F20\n",
    "##\n",
    "## Linear and non-linear combinations of regression coefficients\n",
    "## Data source: GLobal suicide rates from \n",
    "## https://www.kaggle.com/russellyates88/suicide-rates-overview-1985-to-2016\n",
    "##  \n",
    "##\n",
    "## Author: Yingyi Yang, yyingyi@umich.edu\n",
    "## Updated: November 13, 2020\n",
    "\n",
    "#! Limit lines to 79 characters with rare exceptions. \n",
    "# 79: -------------------------------------------------------------------------"
   ]
  },
  {
   "cell_type": "code",
   "execution_count": 2,
   "metadata": {},
   "outputs": [],
   "source": [
    "import pandas as pd\n",
    "from scipy import stats\n",
    "import numpy as np\n",
    "import statsmodels.api as sm\n",
    "from itertools import combinations_with_replacement \n",
    "import matplotlib.pyplot as plt\n",
    "import os"
   ]
  },
  {
   "cell_type": "markdown",
   "metadata": {},
   "source": [
    "### 1. Data preprocessing "
   ]
  },
  {
   "cell_type": "code",
   "execution_count": 3,
   "metadata": {},
   "outputs": [],
   "source": [
    "url = \"https://raw.githubusercontent.com/aravind1338/506F20GroupProject/main/master.csv\"\n",
    "df = pd.read_csv(url, index_col=0)"
   ]
  },
  {
   "cell_type": "code",
   "execution_count": 4,
   "metadata": {},
   "outputs": [],
   "source": [
    "df.rename(columns = {\"suicides/100k pop\": \"suicides_per_100k\", \"gdp_per_capita ($)\": \"gdp_per_capita\"}, inplace=True)"
   ]
  },
  {
   "cell_type": "code",
   "execution_count": 5,
   "metadata": {},
   "outputs": [],
   "source": [
    "df.reset_index(inplace = True)"
   ]
  },
  {
   "cell_type": "markdown",
   "metadata": {},
   "source": [
    "### 2. Fitted Poisson model"
   ]
  },
  {
   "cell_type": "code",
   "execution_count": 6,
   "metadata": {},
   "outputs": [
    {
     "name": "stdout",
     "output_type": "stream",
     "text": [
      "                 Generalized Linear Model Regression Results                  \n",
      "==============================================================================\n",
      "Dep. Variable:            suicides_no   No. Observations:                27820\n",
      "Model:                            GLM   Df Residuals:                    27781\n",
      "Model Family:                 Poisson   Df Model:                           38\n",
      "Link Function:                    log   Scale:                          1.0000\n",
      "Method:                          IRLS   Log-Likelihood:            -1.6427e+06\n",
      "Date:                Wed, 25 Nov 2020   Deviance:                   3.1549e+06\n",
      "Time:                        14:05:31   Pearson chi2:                 3.58e+06\n",
      "No. Iterations:                     9                                         \n",
      "Covariance Type:            nonrobust                                         \n",
      "=========================================================================================\n",
      "                            coef    std err          z      P>|z|      [0.025      0.975]\n",
      "-----------------------------------------------------------------------------------------\n",
      "Intercept               -10.2120      0.003  -3199.223      0.000     -10.218     -10.206\n",
      "C(year)[T.1986]           0.0156      0.004      3.796      0.000       0.008       0.024\n",
      "C(year)[T.1987]          -0.0059      0.004     -1.464      0.143      -0.014       0.002\n",
      "C(year)[T.1988]          -0.0267      0.004     -6.493      0.000      -0.035      -0.019\n",
      "C(year)[T.1989]           0.0989      0.004     25.646      0.000       0.091       0.106\n",
      "C(year)[T.1990]           0.1062      0.004     28.586      0.000       0.099       0.113\n",
      "C(year)[T.1991]           0.1106      0.004     29.898      0.000       0.103       0.118\n",
      "C(year)[T.1992]           0.1277      0.004     34.943      0.000       0.121       0.135\n",
      "C(year)[T.1993]           0.1929      0.004     53.207      0.000       0.186       0.200\n",
      "C(year)[T.1994]           0.2191      0.004     60.879      0.000       0.212       0.226\n",
      "C(year)[T.1995]           0.2352      0.004     65.834      0.000       0.228       0.242\n",
      "C(year)[T.1996]           0.2063      0.004     57.882      0.000       0.199       0.213\n",
      "C(year)[T.1997]           0.1615      0.004     45.125      0.000       0.154       0.168\n",
      "C(year)[T.1998]           0.1803      0.004     50.676      0.000       0.173       0.187\n",
      "C(year)[T.1999]           0.1717      0.004     48.449      0.000       0.165       0.179\n",
      "C(year)[T.2000]           0.1533      0.004     43.259      0.000       0.146       0.160\n",
      "C(year)[T.2001]           0.1510      0.004     42.469      0.000       0.144       0.158\n",
      "C(year)[T.2002]           0.1311      0.004     37.008      0.000       0.124       0.138\n",
      "C(year)[T.2003]           0.1166      0.004     32.869      0.000       0.110       0.124\n",
      "C(year)[T.2004]           0.0916      0.004     25.551      0.000       0.085       0.099\n",
      "C(year)[T.2005]           0.0633      0.004     17.557      0.000       0.056       0.070\n",
      "C(year)[T.2006]           0.0009      0.004      0.237      0.813      -0.006       0.008\n",
      "C(year)[T.2007]          -0.0159      0.004     -4.404      0.000      -0.023      -0.009\n",
      "C(year)[T.2008]          -0.0131      0.004     -3.629      0.000      -0.020      -0.006\n",
      "C(year)[T.2009]          -0.0382      0.004    -10.639      0.000      -0.045      -0.031\n",
      "C(year)[T.2010]          -0.0737      0.004    -20.442      0.000      -0.081      -0.067\n",
      "C(year)[T.2011]          -0.0853      0.004    -23.584      0.000      -0.092      -0.078\n",
      "C(year)[T.2012]          -0.0848      0.004    -23.319      0.000      -0.092      -0.078\n",
      "C(year)[T.2013]          -0.1074      0.004    -29.378      0.000      -0.115      -0.100\n",
      "C(year)[T.2014]          -0.1231      0.004    -33.704      0.000      -0.130      -0.116\n",
      "C(year)[T.2015]          -0.1436      0.004    -38.779      0.000      -0.151      -0.136\n",
      "C(year)[T.2016]          -0.2727      0.009    -31.965      0.000      -0.289      -0.256\n",
      "C(sex)[T.male]            1.3081      0.001   1427.700      0.000       1.306       1.310\n",
      "C(age)[T.25-34 years]     0.3609      0.001    247.459      0.000       0.358       0.364\n",
      "C(age)[T.35-54 years]     0.6218      0.001    483.801      0.000       0.619       0.624\n",
      "C(age)[T.5-14 years]     -2.7167      0.005   -601.906      0.000      -2.726      -2.708\n",
      "C(age)[T.55-74 years]     0.7660      0.001    561.886      0.000       0.763       0.769\n",
      "C(age)[T.75+ years]       1.1644      0.002    693.135      0.000       1.161       1.168\n",
      "gdp_per_capita         3.522e-07   2.37e-08     14.875      0.000    3.06e-07    3.99e-07\n",
      "=========================================================================================\n"
     ]
    }
   ],
   "source": [
    "fml = \"suicides_no ~ C(year) + C(sex) + C(age) + gdp_per_capita\"\n",
    "model = sm.GLM.from_formula(fml, offset=np.log(df['population']), data=df, family=sm.families.Poisson())\n",
    "res = model.fit()\n",
    "print(res.summary())"
   ]
  },
  {
   "cell_type": "code",
   "execution_count": 7,
   "metadata": {},
   "outputs": [],
   "source": [
    "cov_matrix = res.cov_params()\n",
    "coeffs = res.params"
   ]
  },
  {
   "cell_type": "markdown",
   "metadata": {},
   "source": [
    "### 3. Linear combination "
   ]
  },
  {
   "cell_type": "code",
   "execution_count": 38,
   "metadata": {},
   "outputs": [],
   "source": [
    "def lcom(var_list, coeffs, cov_matrix, alpha=0.05):   \n",
    "    # Function to calculate estimate, std error and confidence intervals\n",
    "    # Inputs: var_list - a list of variables to compare (3 items expected)\n",
    "    #         coeffs - the fitted coefficients of the model\n",
    "    #         cov_matrix - the variance/covariance matrix of the parameter estimates     \n",
    "    # Output: a dataframe containing the estimate, std error, lower and upper limits\n",
    "    #         for the linear combination\n",
    "   \n",
    "    trans_list = ['Intercept']\n",
    "    coeffs_list = [coeffs['Intercept']]\n",
    "       \n",
    "    for name in var_list:\n",
    "        if \"age\" in name:\n",
    "            trans = \"C(age)[T.\"+name[3:]+\"]\"\n",
    "        elif \"sex\" in name:\n",
    "            trans = \"C(sex)[T.\"+name[3:]+\"]\"\n",
    "        elif \"year\" in name:\n",
    "            trans = \"C(year)[T.\"+name[4:]+\"]\"\n",
    "        if trans in coeffs.index:\n",
    "            trans_list.append(trans)\n",
    "            coeffs_list.append(coeffs[trans])\n",
    "    \n",
    "    linear_est = sum(coeffs_list)\n",
    "    score = stats.t.ppf(1-alpha/2, res.df_resid)\n",
    "\n",
    "    variance = 0\n",
    "    for a, b in combinations_with_replacement(trans_list, 2):\n",
    "        if a == b:\n",
    "            variance += cov_matrix[a][b]\n",
    "        else:\n",
    "            variance += 2*cov_matrix[a][b]\n",
    "    \n",
    "    output = pd.DataFrame({\"estimate\": [np.exp(linear_est)], \n",
    "                           \"se\": [np.exp(linear_est)*np.sqrt(variance)],\n",
    "                           \"lower\": [np.exp(linear_est)-score*np.exp(linear_est)*np.sqrt(variance)], \n",
    "                           \"upper\": [np.exp(linear_est)+score*np.exp(linear_est)*np.sqrt(variance)]})\n",
    "    \n",
    "    return output"
   ]
  },
  {
   "cell_type": "markdown",
   "metadata": {},
   "source": [
    "### 4. Nonlinear combination "
   ]
  },
  {
   "cell_type": "code",
   "execution_count": 44,
   "metadata": {},
   "outputs": [],
   "source": [
    "def nlcom(var_list, coeffs, cov_matrix, alpha=0.05, method=\"ratio\"):\n",
    "    # Function to calculate estimate, std error and confidence intervals\n",
    "    # Inputs: var_list - a list of variables to compare (3 items expected)\n",
    "    #         coeffs - the fitted coefficients of the model\n",
    "    #         cov_matrix - the variance/covariance matrix of the parameter estimates\n",
    "    #         method - nonlinear combination method\n",
    "    # Output: a dataframe containing the estimate, std error, lower and upper limits\n",
    "    #         for the linear combination\n",
    "    \n",
    "    trans_list = ['Intercept']\n",
    "    coeffs_list = []\n",
    "       \n",
    "    for name in var_list:\n",
    "        if \"age\" in name:\n",
    "            trans = \"C(age)[T.\"+name[3:]+\"]\"\n",
    "        elif \"sex\" in name:\n",
    "            trans = \"C(sex)[T.\"+name[3:]+\"]\"\n",
    "        elif \"year\" in name:\n",
    "            trans = \"C(year)[T.\"+name[4:]+\"]\"\n",
    "        if trans in coeffs.index:\n",
    "            trans_list.append(trans)\n",
    "            coeffs_list.append(coeffs[trans])\n",
    "            \n",
    "    if method == 'product':\n",
    "        beta1, beta2 = coeffs[trans_list[1]], coeffs[trans_list[2]]\n",
    "        est = np.exp(beta1*beta2)\n",
    "        G = np.matrix([0,est*beta2,est*beta1])\n",
    "        V = cov_matrix[trans_list].loc[trans_list,:]\n",
    "        vcov = np.matrix(V)\n",
    "        se   = np.sqrt(G.dot(vcov).dot(G.T))\n",
    "        score = stats.t.ppf(1-alpha/2, res.df_resid)\n",
    "        ci_l = est - score*se[0,0]\n",
    "        ci_u = est + score*se[0,0]\n",
    "            \n",
    "    if method == 'ratio':\n",
    "        beta1, beta2 = coeffs[trans_list[1]], coeffs[trans_list[2]]\n",
    "        est = np.exp(beta1/beta2)\n",
    "        G = np.matrix([0,est*1./beta2,est*(-beta1/(beta2**2))])\n",
    "        V = cov_matrix[trans_list].loc[trans_list,:]\n",
    "        vcov = np.matrix(V)\n",
    "        se   = np.sqrt(G.dot(vcov).dot(G.T))\n",
    "        score = stats.t.ppf(1-alpha/2, res.df_resid)\n",
    "        ci_l = est - score*se[0,0]\n",
    "        ci_u = est + score*se[0,0]\n",
    "        \n",
    "    output = pd.DataFrame({\"estimate\": [est], \n",
    "                           \"se\": [se[0,0]],\n",
    "                           \"lower\": [ci_l], \n",
    "                           \"upper\": [ci_u]})\n",
    "    \n",
    "    if method == 'product':\n",
    "        output.index = ['product']\n",
    "    if method == 'ratio':\n",
    "        output.index = ['ratio']\n",
    "    \n",
    "    return output    "
   ]
  },
  {
   "cell_type": "code",
   "execution_count": 45,
   "metadata": {},
   "outputs": [
    {
     "data": {
      "text/html": [
       "<div>\n",
       "<style scoped>\n",
       "    .dataframe tbody tr th:only-of-type {\n",
       "        vertical-align: middle;\n",
       "    }\n",
       "\n",
       "    .dataframe tbody tr th {\n",
       "        vertical-align: top;\n",
       "    }\n",
       "\n",
       "    .dataframe thead th {\n",
       "        text-align: right;\n",
       "    }\n",
       "</style>\n",
       "<table border=\"1\" class=\"dataframe\">\n",
       "  <thead>\n",
       "    <tr style=\"text-align: right;\">\n",
       "      <th></th>\n",
       "      <th>estimate</th>\n",
       "      <th>se</th>\n",
       "      <th>lower</th>\n",
       "      <th>upper</th>\n",
       "    </tr>\n",
       "  </thead>\n",
       "  <tbody>\n",
       "    <tr>\n",
       "      <th>ratio</th>\n",
       "      <td>0.124771</td>\n",
       "      <td>0.017357</td>\n",
       "      <td>0.09075</td>\n",
       "      <td>0.158791</td>\n",
       "    </tr>\n",
       "  </tbody>\n",
       "</table>\n",
       "</div>"
      ],
      "text/plain": [
       "       estimate        se    lower     upper\n",
       "ratio  0.124771  0.017357  0.09075  0.158791"
      ]
     },
     "execution_count": 45,
     "metadata": {},
     "output_type": "execute_result"
    }
   ],
   "source": [
    "nlcom(['year2000','year2010'], coeffs, cov_matrix, alpha=0.05, method=\"ratio\")"
   ]
  },
  {
   "cell_type": "code",
   "execution_count": 46,
   "metadata": {},
   "outputs": [
    {
     "data": {
      "text/html": [
       "<div>\n",
       "<style scoped>\n",
       "    .dataframe tbody tr th:only-of-type {\n",
       "        vertical-align: middle;\n",
       "    }\n",
       "\n",
       "    .dataframe tbody tr th {\n",
       "        vertical-align: top;\n",
       "    }\n",
       "\n",
       "    .dataframe thead th {\n",
       "        text-align: right;\n",
       "    }\n",
       "</style>\n",
       "<table border=\"1\" class=\"dataframe\">\n",
       "  <thead>\n",
       "    <tr style=\"text-align: right;\">\n",
       "      <th></th>\n",
       "      <th>estimate</th>\n",
       "      <th>se</th>\n",
       "      <th>lower</th>\n",
       "      <th>upper</th>\n",
       "    </tr>\n",
       "  </thead>\n",
       "  <tbody>\n",
       "    <tr>\n",
       "      <th>product</th>\n",
       "      <td>1.086333</td>\n",
       "      <td>0.005124</td>\n",
       "      <td>1.076289</td>\n",
       "      <td>1.096377</td>\n",
       "    </tr>\n",
       "  </tbody>\n",
       "</table>\n",
       "</div>"
      ],
      "text/plain": [
       "         estimate        se     lower     upper\n",
       "product  1.086333  0.005124  1.076289  1.096377"
      ]
     },
     "execution_count": 46,
     "metadata": {},
     "output_type": "execute_result"
    }
   ],
   "source": [
    "nlcom(['sexmale','year2005'], coeffs, cov_matrix, alpha=0.05, method=\"product\")"
   ]
  },
  {
   "cell_type": "markdown",
   "metadata": {},
   "source": [
    "### 5. Visualization "
   ]
  },
  {
   "cell_type": "code",
   "execution_count": 40,
   "metadata": {},
   "outputs": [],
   "source": [
    "def plot_comparison(var_list1, var_list2):\n",
    "    # Function to generate bar plot of estimate and confidence interval\n",
    "    # Inputs: var_list1 - a list of 3 variables to compare\n",
    "    #         var_list2 - variable list with 1 different from var_list1\n",
    "    \n",
    "    common = list(set(var_list2).intersection(var_list1))\n",
    "    \n",
    "    df1 = lcom(var_list1, coeffs, cov_matrix, alpha=0.05)\n",
    "    df1.index = list(set(var_list1)-set(common))\n",
    "    df2 = lcom(var_list2, coeffs, cov_matrix, alpha=0.05)\n",
    "    df2.index = list(set(var_list2)-set(common))\n",
    "    df = df1.append(df2)\n",
    "    \n",
    "    est = np.array(df['estimate'])\n",
    "    ci = np.array([df1[['lower','upper']].values[0], df2[['lower','upper']].values[0]])\n",
    "\n",
    "    x_r = np.c_[est-ci[:,0],ci[:,1]-est].T\n",
    "    plt.figure(figsize=(15,4))\n",
    "    plt.barh(range(len(est)), est, xerr=x_r, fill=False, ecolor='r', capsize=20)\n",
    "    plt.xlabel('Linear combination of coefficients (95% CI)')\n",
    "    plt.yticks(range(len(est)), [str(lab) for lab in df.index])\n",
    "    plt.title(str(common))\n",
    "    plt.show()\n",
    "    \n",
    "    return df"
   ]
  },
  {
   "cell_type": "code",
   "execution_count": 41,
   "metadata": {},
   "outputs": [
    {
     "data": {
      "image/png": "[encoded data removed]",
      "text/plain": [
       "<Figure size 1080x288 with 1 Axes>"
      ]
     },
     "metadata": {
      "needs_background": "light"
     },
     "output_type": "display_data"
    },
    {
     "data": {
      "text/html": [
       "<div>\n",
       "<style scoped>\n",
       "    .dataframe tbody tr th:only-of-type {\n",
       "        vertical-align: middle;\n",
       "    }\n",
       "\n",
       "    .dataframe tbody tr th {\n",
       "        vertical-align: top;\n",
       "    }\n",
       "\n",
       "    .dataframe thead th {\n",
       "        text-align: right;\n",
       "    }\n",
       "</style>\n",
       "<table border=\"1\" class=\"dataframe\">\n",
       "  <thead>\n",
       "    <tr style=\"text-align: right;\">\n",
       "      <th></th>\n",
       "      <th>estimate</th>\n",
       "      <th>se</th>\n",
       "      <th>lower</th>\n",
       "      <th>upper</th>\n",
       "    </tr>\n",
       "  </thead>\n",
       "  <tbody>\n",
       "    <tr>\n",
       "      <th>year2015</th>\n",
       "      <td>0.000169</td>\n",
       "      <td>4.172158e-07</td>\n",
       "      <td>0.000168</td>\n",
       "      <td>0.000170</td>\n",
       "    </tr>\n",
       "    <tr>\n",
       "      <th>year2005</th>\n",
       "      <td>0.000208</td>\n",
       "      <td>4.796980e-07</td>\n",
       "      <td>0.000207</td>\n",
       "      <td>0.000209</td>\n",
       "    </tr>\n",
       "  </tbody>\n",
       "</table>\n",
       "</div>"
      ],
      "text/plain": [
       "          estimate            se     lower     upper\n",
       "year2015  0.000169  4.172158e-07  0.000168  0.000170\n",
       "year2005  0.000208  4.796980e-07  0.000207  0.000209"
      ]
     },
     "execution_count": 41,
     "metadata": {},
     "output_type": "execute_result"
    }
   ],
   "source": [
    "var_list1 = [\"sexmale\", \"age25-34 years\", \"year2015\"]\n",
    "var_list2 = [\"sexmale\", \"age25-34 years\", \"year2005\"]\n",
    "\n",
    "plot_comparison(var_list1, var_list2)"
   ]
  },
  {
   "cell_type": "code",
   "execution_count": 42,
   "metadata": {},
   "outputs": [
    {
     "data": {
      "image/png": "[encoded data removed]",
      "text/plain": [
       "<Figure size 1080x288 with 1 Axes>"
      ]
     },
     "metadata": {
      "needs_background": "light"
     },
     "output_type": "display_data"
    },
    {
     "data": {
      "text/html": [
       "<div>\n",
       "<style scoped>\n",
       "    .dataframe tbody tr th:only-of-type {\n",
       "        vertical-align: middle;\n",
       "    }\n",
       "\n",
       "    .dataframe tbody tr th {\n",
       "        vertical-align: top;\n",
       "    }\n",
       "\n",
       "    .dataframe thead th {\n",
       "        text-align: right;\n",
       "    }\n",
       "</style>\n",
       "<table border=\"1\" class=\"dataframe\">\n",
       "  <thead>\n",
       "    <tr style=\"text-align: right;\">\n",
       "      <th></th>\n",
       "      <th>estimate</th>\n",
       "      <th>se</th>\n",
       "      <th>lower</th>\n",
       "      <th>upper</th>\n",
       "    </tr>\n",
       "  </thead>\n",
       "  <tbody>\n",
       "    <tr>\n",
       "      <th>sexmale</th>\n",
       "      <td>0.000219</td>\n",
       "      <td>5.214398e-07</td>\n",
       "      <td>0.000218</td>\n",
       "      <td>0.00022</td>\n",
       "    </tr>\n",
       "    <tr>\n",
       "      <th>sexfemale</th>\n",
       "      <td>0.000059</td>\n",
       "      <td>1.466505e-07</td>\n",
       "      <td>0.000059</td>\n",
       "      <td>0.00006</td>\n",
       "    </tr>\n",
       "  </tbody>\n",
       "</table>\n",
       "</div>"
      ],
      "text/plain": [
       "           estimate            se     lower    upper\n",
       "sexmale    0.000219  5.214398e-07  0.000218  0.00022\n",
       "sexfemale  0.000059  1.466505e-07  0.000059  0.00006"
      ]
     },
     "execution_count": 42,
     "metadata": {},
     "output_type": "execute_result"
    }
   ],
   "source": [
    "var_list1 = [\"sexmale\", \"age35-54 years\", \"year2015\"]\n",
    "var_list2 = [\"sexfemale\", \"age35-54 years\", \"year2015\"]\n",
    "\n",
    "plot_comparison(var_list1, var_list2)"
   ]
  },
  {
   "cell_type": "code",
   "execution_count": 43,
   "metadata": {},
   "outputs": [
    {
     "data": {
      "image/png": "[encoded data removed]",
      "text/plain": [
       "<Figure size 1080x288 with 1 Axes>"
      ]
     },
     "metadata": {
      "needs_background": "light"
     },
     "output_type": "display_data"
    },
    {
     "data": {
      "text/html": [
       "<div>\n",
       "<style scoped>\n",
       "    .dataframe tbody tr th:only-of-type {\n",
       "        vertical-align: middle;\n",
       "    }\n",
       "\n",
       "    .dataframe tbody tr th {\n",
       "        vertical-align: top;\n",
       "    }\n",
       "\n",
       "    .dataframe thead th {\n",
       "        text-align: right;\n",
       "    }\n",
       "</style>\n",
       "<table border=\"1\" class=\"dataframe\">\n",
       "  <thead>\n",
       "    <tr style=\"text-align: right;\">\n",
       "      <th></th>\n",
       "      <th>estimate</th>\n",
       "      <th>se</th>\n",
       "      <th>lower</th>\n",
       "      <th>upper</th>\n",
       "    </tr>\n",
       "  </thead>\n",
       "  <tbody>\n",
       "    <tr>\n",
       "      <th>age75+ years</th>\n",
       "      <td>0.000377</td>\n",
       "      <td>9.923070e-07</td>\n",
       "      <td>0.000375</td>\n",
       "      <td>0.000379</td>\n",
       "    </tr>\n",
       "    <tr>\n",
       "      <th>age5-14 years</th>\n",
       "      <td>0.000008</td>\n",
       "      <td>3.836909e-08</td>\n",
       "      <td>0.000008</td>\n",
       "      <td>0.000008</td>\n",
       "    </tr>\n",
       "  </tbody>\n",
       "</table>\n",
       "</div>"
      ],
      "text/plain": [
       "               estimate            se     lower     upper\n",
       "age75+ years   0.000377  9.923070e-07  0.000375  0.000379\n",
       "age5-14 years  0.000008  3.836909e-08  0.000008  0.000008"
      ]
     },
     "execution_count": 43,
     "metadata": {},
     "output_type": "execute_result"
    }
   ],
   "source": [
    "var_list1 = [\"sexmale\", \"age75+ years\", \"year2015\"]\n",
    "var_list2 = [\"sexmale\", \"age5-14 years\", \"year2015\"]\n",
    "\n",
    "plot_comparison(var_list1, var_list2)"
   ]
  }
 ],
 "metadata": {
  "kernelspec": {
   "display_name": "Python 3",
   "language": "python",
   "name": "python3"
  },
  "language_info": {
   "codemirror_mode": {
    "name": "ipython",
    "version": 3
   },
   "file_extension": ".py",
   "mimetype": "text/x-python",
   "name": "python",
   "nbconvert_exporter": "python",
   "pygments_lexer": "ipython3",
   "version": "3.7.7"
  }
 },
 "nbformat": 4,
 "nbformat_minor": 4
}
